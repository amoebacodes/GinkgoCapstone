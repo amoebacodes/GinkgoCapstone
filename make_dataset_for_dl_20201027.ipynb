{
 "cells": [
  {
   "cell_type": "code",
   "execution_count": 1,
   "id": "3b720cbf",
   "metadata": {
    "pycharm": {
     "name": "#%%\n"
    }
   },
   "outputs": [],
   "source": [
    "from cmath import nan\n",
    "from PIL import Image\n",
    "import numpy as np\n",
    "from numpy import asarray\n",
    "import matplotlib.pyplot as plt\n",
    "import os, glob\n",
    "import cv2\n",
    "import pandas as pd\n",
    "from typing import Tuple\n",
    "from PIL import Image"
   ]
  },
  {
   "cell_type": "code",
   "execution_count": 2,
   "id": "dc91cf6f",
   "metadata": {
    "pycharm": {
     "name": "#%%\n"
    }
   },
   "outputs": [],
   "source": [
    "'''crop and rotate operation for a single image'''\n",
    "def crop_rotate(filename, angle = -1.5, left = 135, upper =80, right = 600, lower = 390):\n",
    "    with Image.open(filename) as img:\n",
    "         # (left, upper, right, lower) = (100, 60, 630, 400)\n",
    "        rotated = img.rotate(angle, expand = 1)\n",
    "    return rotated.crop((left, upper, right, lower))\n",
    "\n",
    "\"\"\"\n",
    "exclude wells with black background (idx start from 0)\n",
    "\"\"\"\n",
    "def exclude_wells(col_idx, row_idx):\n",
    "    if ((col_idx == 2 or col_idx == 3) and row_idx == 12) or ((row_idx ==0 or row_idx == 15) and (col_idx==11 or col_idx ==12)) or (row_idx == 2 and col_idx==20):\n",
    "        return True\n",
    "    return False\n",
    "\"\"\"\n",
    "input: img or preprocessed img\n",
    "output: conceptually a matrix of 16 x 24, each entry is the isolated well image\n",
    "\"\"\"\n",
    "def isolate_each_well(img_th):\n",
    "    to_return = []\n",
    "    y = img_th.shape[0] / 16\n",
    "    x = img_th.shape[1] / 24\n",
    "    for row in np.arange(0, img_th.shape[0], y):\n",
    "        col_out = []\n",
    "        for col in np.arange(0, img_th.shape[1], x):\n",
    "            col_out.append(img_th[round(row):round(row+y),round(col):round(col+x)])\n",
    "        to_return.append(col_out)\n",
    "    return np.array(to_return, dtype=object)\n",
    "\n",
    "letters_to_index = {\n",
    "        \"A\": 0,\n",
    "        \"B\": 1,\n",
    "        \"C\": 2,\n",
    "        \"D\": 3,\n",
    "        \"E\": 4,\n",
    "        \"F\": 5,\n",
    "        \"G\": 6,\n",
    "        \"H\": 7,\n",
    "        \"I\": 8,\n",
    "        \"J\": 9,\n",
    "        \"K\": 10,\n",
    "        \"L\": 11,\n",
    "        \"M\": 12,\n",
    "        \"N\": 13,\n",
    "        \"O\": 14,\n",
    "        \"P\": 15\n",
    "    }\n",
    "\n",
    "\"\"\"\n",
    "modify the dataframe loaded from 'xxx_labels.csv\"\n",
    "split 'destination_well' and add column 'row_id' and 'col_id'\n",
    "\"\"\"\n",
    "def letter2index_df(df):\n",
    "    rows = []\n",
    "    cols = []\n",
    "    destination_wells = df['destination_well'].values\n",
    "    for destination in destination_wells:\n",
    "        row = letters_to_index[destination[0]]\n",
    "        col = int(destination[1:]) - 1\n",
    "        rows.append(row)\n",
    "        cols.append(col)\n",
    "\n",
    "    df['row_id'] = rows\n",
    "    df['col_id'] = cols\n"
   ]
  },
  {
   "cell_type": "code",
   "execution_count": 4,
   "id": "3e14c65a",
   "metadata": {
    "pycharm": {
     "name": "#%%\n"
    }
   },
   "outputs": [
    {
     "data": {
      "text/plain": "\"\\nmake new csv 'xxx_labels_new.csv'\\nfor folder in glob.glob(path+'/*/'):\\n    print(folder)\\n    for csv in glob.glob(folder +'/*.csv'):\\n        print(csv)\\n        labels = pd.read_csv(csv, index_col=0)\\n        letter2index_df(labels)\\n        csv_name = csv.split('.')[0]\\n        csv_path = os.path.join(csv_name+'_new.csv')\\n        print(csv_path)\\n        labels.to_csv(csv_path)\\n\""
     },
     "execution_count": 4,
     "metadata": {},
     "output_type": "execute_result"
    }
   ],
   "source": [
    "'''\n",
    "make new csv 'xxx_labels_new.csv'\n",
    "for folder in glob.glob(path+'/*/'):\n",
    "    print(folder)\n",
    "    for csv in glob.glob(folder +'/*.csv'):\n",
    "        print(csv)\n",
    "        labels = pd.read_csv(csv, index_col=0)\n",
    "        letter2index_df(labels)\n",
    "        csv_name = csv.split('.')[0]\n",
    "        csv_path = os.path.join(csv_name+'_new.csv')\n",
    "        print(csv_path)\n",
    "        labels.to_csv(csv_path)\n",
    "'''"
   ]
  },
  {
   "cell_type": "code",
   "execution_count": 12,
   "id": "9848e8a2",
   "metadata": {
    "pycharm": {
     "name": "#%%\n"
    }
   },
   "outputs": [],
   "source": [
    "# path = r'revised_train_221027'\n",
    "# wells_dir = r'train_221027'\n",
    "path = r'revised_val_small3_221027'\n",
    "wells_dir = r'val3_221027'\n",
    "well_img_id = 0\n",
    "out_labels = []"
   ]
  },
  {
   "cell_type": "code",
   "execution_count": 15,
   "id": "76dabbb1",
   "metadata": {
    "pycharm": {
     "name": "#%%\n"
    }
   },
   "outputs": [
    {
     "name": "stdout",
     "output_type": "stream",
     "text": [
      "1044837\n",
      "1036688\n",
      "1035231\n",
      "1044836\n",
      "1036687\n",
      "1035230\n",
      "1040848\n",
      "1048040\n",
      "1042117\n",
      "1042116\n",
      "1042118\n",
      "1043496\n",
      "1048041\n",
      "1044835\n",
      "1046898\n",
      "1046899\n",
      "1046897\n",
      "1048044\n",
      "1043494\n",
      "1048043\n",
      "1035229\n",
      "1042115\n",
      "1043495\n",
      "1048042\n",
      "1035228\n"
     ]
    }
   ],
   "source": [
    "for folder in glob.glob(path+'/*/'):\n",
    "    # print(folder)\n",
    "    barcode = folder.split('/')[1]\n",
    "    print(barcode)\n",
    "    for csv in glob.glob(folder +'/*_new.csv'):\n",
    "        # print(csv)\n",
    "        labels = pd.read_csv(csv, index_col=0)\n",
    "    for img_name in glob.glob(folder +'/*.jpg'):\n",
    "        # print(img_name)\n",
    "        img = crop_rotate(img_name)\n",
    "        # img = cv2.cvtColor(np.array(img), cv2.COLOR_RGB2BGR)\n",
    "        img = cv2.cvtColor(np.array(img), cv2.COLOR_BGR2GRAY)\n",
    "        # plt.imshow(img, cmap = 'gray')\n",
    "        wells = isolate_each_well(img)\n",
    "        # plt.imshow(wells[0][0], cmap = 'gray')\n",
    "        for row in range(wells.shape[0]):\n",
    "            for col in range(wells.shape[1]):\n",
    "                if not exclude_wells(col, row):  # exclude wells with black background\n",
    "                    target = labels.loc[(labels['col_id']==col) & (labels['row_id']==row),'label'].tolist()[0]\n",
    "                    if not np.isnan(target):\n",
    "                        '''save each well_img'''\n",
    "                        path_save_well_img = os.path.join(wells_dir, f'{well_img_id}.jpg')\n",
    "                        well = np.array(wells[row,col])\n",
    "                        img = Image.fromarray(well)\n",
    "                        img.save(path_save_well_img)\n",
    "                        '''save each label in csv'''\n",
    "                        info = [well_img_id, barcode, row, col, target]\n",
    "                        info = np.asarray(info)\n",
    "                        out_labels.append(info)\n",
    "                        well_img_id += 1\n"
   ]
  },
  {
   "cell_type": "code",
   "execution_count": 17,
   "id": "0bfa4a2b",
   "metadata": {
    "pycharm": {
     "name": "#%%\n"
    }
   },
   "outputs": [],
   "source": [
    "csv = np.vstack(out_labels)\n",
    "df = pd.DataFrame(csv)\n",
    "df.columns = [\"data_id\", \"plate_path\", \"row_id\", \"col_id\", \"label\"]\n",
    "# labels_file_name = 'labels_train_221027.csv'\n",
    "labels_file_name = 'labels_val_221027.csv'\n",
    "df.to_csv(labels_file_name, index=False)\n",
    "df = pd.read_csv(labels_file_name)"
   ]
  },
  {
   "cell_type": "code",
   "execution_count": null,
   "id": "6d376847",
   "metadata": {
    "pycharm": {
     "name": "#%%\n"
    }
   },
   "outputs": [],
   "source": []
  }
 ],
 "metadata": {
  "kernelspec": {
   "display_name": "Python 3 (ipykernel)",
   "language": "python",
   "name": "python3"
  },
  "language_info": {
   "codemirror_mode": {
    "name": "ipython",
    "version": 3
   },
   "file_extension": ".py",
   "mimetype": "text/x-python",
   "name": "python",
   "nbconvert_exporter": "python",
   "pygments_lexer": "ipython3",
   "version": "3.8.13"
  }
 },
 "nbformat": 4,
 "nbformat_minor": 5
}