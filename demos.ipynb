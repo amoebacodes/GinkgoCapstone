{
 "cells": [
  {
   "cell_type": "markdown",
   "metadata": {},
   "source": [
    "Cropping and Rotating"
   ]
  },
  {
   "cell_type": "code",
   "execution_count": 1,
   "metadata": {},
   "outputs": [],
   "source": [
    "def crop_rotate_dir(input_dir = 'input',output_dir='output', angle = -1.5, left = 135, upper =85, right = 600, lower = 390):\n",
    "    from PIL import Image\n",
    "    import os, glob\n",
    "    # read every image file from the input folder\n",
    "    for filename in glob.glob(input_dir+'/*.jpg'):\n",
    "        # print(filename)\n",
    "        with Image.open(filename) as im:\n",
    "            # (left, upper, right, lower) = (100, 60, 630, 400)\n",
    "            rotated = im.rotate(angle, expand = 1)\n",
    "            im_final = rotated.crop((left, upper, right, lower))            \n",
    "            im_final.save(filename.replace(input_dir, output_dir))"
   ]
  },
  {
   "cell_type": "code",
   "execution_count": 3,
   "metadata": {},
   "outputs": [],
   "source": [
    "# Best parameters\n",
    "crop_rotate_dir(input_dir = 'in_test',output_dir='output_test',left = 135, upper =85, right = 600, lower = 390)"
   ]
  },
  {
   "cell_type": "code",
   "execution_count": 2,
   "metadata": {},
   "outputs": [
    {
     "data": {
      "image/png": "[encoded data removed]",
      "text/plain": [
       "<Figure size 432x288 with 1 Axes>"
      ]
     },
     "metadata": {
      "needs_background": "light"
     },
     "output_type": "display_data"
    }
   ],
   "source": [
    "# colmport the necessary libraries\n",
    "from PIL import Image\n",
    "import numpy as np\n",
    "from numpy import asarray\n",
    "import matplotlib.pyplot as plt\n",
    "import numpy as np\n",
    "import os, glob\n",
    "\n",
    "# this is a pipeline that allows you to do an operation on each well for each image\n",
    "def pipeline(input_dir = 'output'):\n",
    "    import os, glob\n",
    "    from PIL import Image\n",
    "    import numpy as np\n",
    "    from numpy import asarray\n",
    "    # read every image file from the input folder\n",
    "    big_output = []\n",
    "    pred_outputs = []\n",
    "    for filename in glob.glob(input_dir+'/*.jpg'):\n",
    "        img = Image.open(filename).convert('L')\n",
    "        img_numpydata = asarray(img)\n",
    "        y = img_numpydata.shape[0] / 16\n",
    "        x = img_numpydata.shape[1] / 24\n",
    "        output = np.zeros(shape=(16,24))\n",
    "        pred_output = np.zeros(shape=(16,24))\n",
    "        rows = 0\n",
    "        columns = 0\n",
    "        for col in np.arange(0, img_numpydata.shape[0], y):\n",
    "            for row in np.arange(0, img_numpydata.shape[1], x):\n",
    "                out = img_numpydata[round(col):round(col+y),round(row):round(row+x)]\n",
    "                min = np.amin(out)\n",
    "                output[rows,columns] = min\n",
    "                pred_output[rows,columns] = 1 if min < 38 else 0\n",
    "                columns += 1\n",
    "            rows += 1\n",
    "            columns = 0\n",
    "        np.savetxt(filename.replace(input_dir, 'output_values').replace('.jpg','.txt'), output)\n",
    "        np.savetxt(filename.replace(input_dir, 'output_pred').replace('.jpg','.txt'), pred_output)\n",
    "        pred_outputs.append(pred_output)\n",
    "        big_output.append(output)\n",
    "    # plot histogram of output\n",
    "    plt.xlabel('Values of Pixels')\n",
    "    plt.ylabel('Count')\n",
    "    plt.hist(asarray(big_output).flatten(), bins=100)\n",
    "\n",
    "pipeline()\n"
   ]
  },
  {
   "cell_type": "code",
   "execution_count": null,
   "metadata": {},
   "outputs": [],
   "source": []
  }
 ],
 "metadata": {
  "kernelspec": {
   "display_name": "Python 3.6.13 ('official')",
   "language": "python",
   "name": "python3"
  },
  "language_info": {
   "codemirror_mode": {
    "name": "ipython",
    "version": 3
   },
   "file_extension": ".py",
   "mimetype": "text/x-python",
   "name": "python",
   "nbconvert_exporter": "python",
   "pygments_lexer": "ipython3",
   "version": "3.6.13"
  },
  "orig_nbformat": 4,
  "vscode": {
   "interpreter": {
    "hash": "5e43d9c31685e7e8f9a62e9b89267a6a1f8cf4795ff4fc2ecbeaf18b3eb1d92e"
   }
  }
 },
 "nbformat": 4,
 "nbformat_minor": 2
}
