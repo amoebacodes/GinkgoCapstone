{
 "cells": [
  {
   "cell_type": "code",
   "execution_count": 1,
   "metadata": {},
   "outputs": [],
   "source": [
    "from cmath import nan\n",
    "from PIL import Image\n",
    "import numpy as np\n",
    "from numpy import asarray\n",
    "import matplotlib.pyplot as plt\n",
    "import os, glob\n",
    "from PIL import Image\n",
    "import cv2\n",
    "import pandas as pd"
   ]
  },
  {
   "cell_type": "code",
   "execution_count": 19,
   "metadata": {},
   "outputs": [],
   "source": [
    "\"\"\"\n",
    "image registration and cropping functions\n",
    "\"\"\"\n",
    "def align_to_standard(img_dir, src_dir='src.jpeg'):\n",
    "    src_color = cv2.imread(src_dir)\n",
    "    sbj_color = cv2.imread(img_dir)\n",
    "\n",
    "    src = cv2.cvtColor(src_color, cv2.COLOR_BGR2GRAY)\n",
    "    sbj = cv2.cvtColor(sbj_color, cv2.COLOR_BGR2GRAY)\n",
    "    \n",
    "    orb_detector = cv2.ORB_create(500)\n",
    "    src_keypoints, src_descriptors = orb_detector.detectAndCompute(src, None)\n",
    "    sbj_keypoints, sbj_descriptors = orb_detector.detectAndCompute(sbj,None)\n",
    "\n",
    "    matcher = cv2.BFMatcher(cv2.NORM_HAMMING, crossCheck = True)\n",
    "    matches = list(matcher.match(sbj_descriptors, src_descriptors))\n",
    "    \n",
    "    matches.sort(key = lambda x: x.distance)\n",
    "    matches = matches[:int(len(matches)*0.9)]\n",
    "    # records matched keypoints' coordinates\n",
    "    no_of_matches = len(matches)\n",
    "    p1 = np.zeros((no_of_matches, 2))\n",
    "    p2 = np.zeros((no_of_matches, 2))\n",
    "\n",
    "    for i in range(no_of_matches):\n",
    "        p1[i, :] = sbj_keypoints[matches[i].queryIdx].pt\n",
    "        p2[i, :] = src_keypoints[matches[i].trainIdx].pt\n",
    "    \n",
    "    homography, mask = cv2.findHomography(p1, p2, cv2.RANSAC)\n",
    "    transformed_img = cv2.warpPerspective(sbj_color,\n",
    "                        homography, (src.shape[1], src.shape[0]))\n",
    "    return transformed_img\n",
    "\n",

    "def crop_rotate_dir(img, og_file_dir, output_dir, angle = -2.5, left = 135, upper =85, right = 600, lower = 390):\n",
    "#def crop_rotate_dir(img, og_file_dir, output_dir, angle = -1.5, left = 135, upper =85, right = 600, lower = 390):\n",
    "    filename = og_file_dir.split('/')[-1]\n",
    "    im = Image.fromarray(img)\n",
    "    rotated = im.rotate(angle, expand = 1)\n",
    "    im_final = rotated.crop((left, upper, right, lower))            \n",
    "    im_final.save(output_dir+'/'+filename)"
   ]
  },
  {
   "cell_type": "code",
   "execution_count": 18,
   "metadata": {},
   "outputs": [],
   "source": [

    "# accuracies, with_label, no_labels = melodys_pipeline()"
   ]
  },
  {
   "cell_type": "code",
   "execution_count": 58,
   "metadata": {},
   "outputs": [
    {
     "data": {
      "text/html": [
       "<div>\n",
       "<style scoped>\n",
       "    .dataframe tbody tr th:only-of-type {\n",
       "        vertical-align: middle;\n",
       "    }\n",
       "\n",
       "    .dataframe tbody tr th {\n",
       "        vertical-align: top;\n",
       "    }\n",
       "\n",
       "    .dataframe thead th {\n",
       "        text-align: right;\n",
       "    }\n",
       "</style>\n",
       "<table border=\"1\" class=\"dataframe\">\n",
       "  <thead>\n",
       "    <tr style=\"text-align: right;\">\n",
       "      <th></th>\n",
       "      <th>destination_well</th>\n",
       "      <th>volume</th>\n",
       "    </tr>\n",
       "  </thead>\n",
       "  <tbody>\n",
       "    <tr>\n",
       "      <th>0</th>\n",
       "      <td>A1</td>\n",
       "      <td>0</td>\n",
       "    </tr>\n",
       "    <tr>\n",
       "      <th>1</th>\n",
       "      <td>A2</td>\n",
       "      <td>25</td>\n",
       "    </tr>\n",
       "    <tr>\n",
       "      <th>2</th>\n",
       "      <td>A3</td>\n",
       "      <td>50</td>\n",
       "    </tr>\n",
       "    <tr>\n",
       "      <th>3</th>\n",
       "      <td>A4</td>\n",
       "      <td>75</td>\n",
       "    </tr>\n",
       "    <tr>\n",
       "      <th>4</th>\n",
       "      <td>A5</td>\n",
       "      <td>100</td>\n",
       "    </tr>\n",
       "  </tbody>\n",
       "</table>\n",
       "</div>"
      ],
      "text/plain": [
       "  destination_well  volume\n",
       "0               A1       0\n",
       "1               A2      25\n",
       "2               A3      50\n",
       "3               A4      75\n",
       "4               A5     100"
      ]
     },
     "execution_count": 58,
     "metadata": {},
     "output_type": "execute_result"
    }
   ],
   "source": [
    "import string\n",
    "import itertools\n",
    "\n",
    "volumes = [0, 25, 50, 75, 100, 125, 150]\n",
    "vol_col = [volumes[i % 7] for i in range(384)]\n",
    "\n",
    "cols = list(range(1, 25))\n",
    "rows = list(string.ascii_uppercase)[:16]\n",
    "well_tups = list(itertools.product(rows, cols))\n",
    "for idx, tup in enumerate(well_tups):\n",
    "        well_tups[idx] = tup + (vol_col[idx],)\n",
    "wells = [(tup[0] + str(tup[1]), tup[2]) for tup in well_tups]\n",
    "\n",
    "labels_df = pd.DataFrame(wells, columns=['destination_well', 'volume'])\n",
    "labels_df.head()"
   ]
  },
  {
   "cell_type": "code",
   "execution_count": 59,
   "metadata": {},
   "outputs": [],
   "source": [

    "# all_labels = pd.read_csv('updated_ground_truth.csv')\n",
    "\n",
    "def get_ground_truth(filename: str):\n",
    "    # id = filename.split('_')[-1].split('.')[0]\n",
    "    # this_labels = all_labels.loc[all_labels[\"destination_plate_bcode\"]==int(id),['destination_well']].to_numpy()\n",
    "    this_labels = labels_df.loc[labels_df[\"volume\"] > 0, ['destination_well']].to_numpy()\n",
    "#all_labels = pd.read_csv('updated_ground_truth.csv')\n",
    "#\n",
    "#def get_ground_truth(filename: str):\n",
    "#    id = filename.split('_')[-1].split('.')[0]\n",
    "#    this_labels = all_labels.loc[all_labels[\"destination_plate_bcode\"]==int(id),['destination_well']].to_numpy()\n",
    "    return this_labels\n",
    "\n",
    "\"\"\"\n",
    "gaussian_kernel_size: greater = blurring in larger neighborhood\n",
    "gaussian_sigma: greater sigma = more blurring\n",
    "adp_th_block_size needs to be odd: greater = looking at local intensities in a larger neighborhood\n",
    "adp_th_const is a constant that is subtracted from the weighted mean; greater = effectively more noise reduction\n",
    "\"\"\"\n",
    "def load_and_preprocess_img(filename: str, gaussian_kernel_size: Tuple = (3,3), gaussian_sigma: float = 1.0, adp_th_block_size: int = 5, adp_th_const: int = 4):\n",
    "    img = cv2.imread(filename, cv2.IMREAD_GRAYSCALE)\n",
    "    img_blurred = cv2.GaussianBlur(img, gaussian_kernel_size, gaussian_sigma)\n",
    "    img_th = cv2.adaptiveThreshold(img_blurred, 255, cv2.ADAPTIVE_THRESH_GAUSSIAN_C, cv2.THRESH_BINARY_INV, adp_th_block_size, adp_th_const)\n",
    "    return img_th\n",
    "\n",
    "\"\"\"\n",
    "exclude wells with black background\n",
    "\"\"\"\n",
    "def exclude_wells(col_idx, row_idx):\n",
    "    if ((col_idx == 2 or col_idx == 3) and row_idx == 12) or ((row_idx ==0 or row_idx == 15) and (col_idx==11 or col_idx ==12)) or (row_idx == 2 and col_idx==20):\n",
    "        return True\n",
    "    return False\n",
    "\"\"\"\n",
    "input: img or preprocessed img\n",
    "output: conceptually a matrix of 16 x 24, each entry is the isolated well image\n",
    "\"\"\"\n",
    "def isolate_each_well(img_th):\n",
    "    to_return = []\n",
    "    y = img_th.shape[0] / 16\n",
    "    x = img_th.shape[1] / 24\n",
    "    for row in np.arange(0, img_th.shape[0], y):\n",
    "        col_out = []\n",
    "        for col in np.arange(0, img_th.shape[1], x):\n",
    "            col_out.append(img_th[round(row):round(row+y),round(col):round(col+x)])\n",
    "        to_return.append(col_out)\n",
    "    return np.array(to_return, dtype=object)\n",
    "\n",
    "\"\"\"\n",
    "If one and only one particle is detected, report 1\n",
    "If no particle detected, report 0\n",
    "else: report -1 to indicate ambiguity\n",
    "\"\"\"\n",
    "def particle_detection_prediction(well_img):\n",
    "    nb_components, arr = cv2.connectedComponents(well_img, connectivity=8)\n",
    "    if nb_components - 1 == 1:\n",
    "        pred = 1\n",
    "    elif nb_components - 1 == 0:\n",
    "        pred = 0\n",
    "    else:\n",
    "        pred = -1\n",
    "    return pred"
   ]
  },
  {
   "cell_type": "code",
   "execution_count": 80,
   "metadata": {},
   "outputs": [],
   "source": [
    "\n",
    "\"\"\"\n",
    "Uses particle detection to predict whether or not bead is present.\n",
    "Returns accuracy and a list of unsure well locations for each img (if particle_detection_prediction returns -1)\n",
    "    which means that more than one particle is detected in the well\n",
    "\"\"\"\n",
    "from fileinput import filename\n",
    "from numpy import isnan\n",
    "from collections import defaultdict\n",
    "\n",
    "def get_default():\n",
    "    return [0 for _ in range(3)]\n",
    "\n",
    "def melodys_pipeline(input_dir = '../first_batch_img', cropped_output_dir = '../cropped_first_batch_img'):\n",
    "    # save aligned and cropped imgs to disk to avoid taking up too much memory\n",
    "    # for filename in glob.glob(input_dir+'/*.jpg'):\n",
    "    #     print(filename)\n",
    "    # filename = 'support_images/221018_clear384pcr_contrived_beads.jpg'\n",
    "    # img = align_to_standard(filename)\n",
    "    # crop_rotate_dir(img, filename, os.getcwd(),left = 135, upper =85, right = 600, lower = 390)\n",
    "    # return None, None, None\n",
    "\n",
    "    accuracy_list = []\n",
    "    with_label = []\n",
    "    no_label = []\n",
    "    preds_by_vol = defaultdict(get_default)  # vol : [right, wrong, num_unsure]\n",
    "    # unsure_dict = {}\n",
    "    # read every image file from the input folder\n",
    "    for _ in glob.glob(os.getcwd() +'/*.jpg'):\n",
    "        filename = '221018_clear384pcr_contrived_beads.jpg'\n",
    "        right = 0\n",
    "        wrong = 0\n",
    "        unsure = []\n",
    "        labels = get_ground_truth(filename)\n",
    "        # print(labels)\n",
    "        if len(labels) == 0:\n",
    "            no_label.append(filename)\n",
    "            continue\n",
    "        with_label.append(filename)\n",
    "        img_th = load_and_preprocess_img(filename, (3,3), 1.0, 5, 4)\n",
    "        well_imgs = isolate_each_well(img_th)\n",
    "        # print(well_imgs.shape)\n",
    "        preds = []\n",
    "        for row in range(well_imgs.shape[0]):\n",
    "            for col in range(well_imgs.shape[1]):\n",
    "                if exclude_wells(col, row):\n",
    "                    continue\n",
    "                well = np.array(well_imgs[row,col])\n",
    "                # pred = particle_detection_prediction(well) # comment this if using only num of val in thresholded img and uncomment the following line\n",
    "                pred = len(np.unique(well)) - 1 \n",
    "                preds.append(pred)\n",
    "                #get truth\n",
    "                well_id = chr(ord('A') + row) + str(col + 1)\n",
    "\n",
    "                if pred != -1:\n",
    "                    if well_id in labels:\n",
    "                        truth = 1\n",
    "                    else:\n",
    "                        truth = 0\n",
    "                        \n",
    "                    if pred == truth:\n",
    "                        right += 1\n",
    "                        vol = labels_df.loc[labels_df['destination_well'] == well_id, ['volume']].values[0][0]\n",
    "                        preds_by_vol[vol][0] += 1\n",
    "                    else:\n",
    "                        wrong += 1\n",
    "                        vol = labels_df.loc[labels_df['destination_well'] == well_id, ['volume']].values[0][0]\n",
    "                        preds_by_vol[vol][1] += 1\n",
    "                else:\n",
    "                    unsure.append([row, col])\n",
    "                    vol = labels_df.loc[labels_df['destination_well'] == well_id, ['volume']].values[0][0]\n",
    "                    preds_by_vol[vol][2] += 1\n",
    "        # print(right)\n",
    "        # print(preds)\n",
    "        accuracy_list.append(right / (right + wrong + len(unsure)))\n",
    "        # unsure_dict[filename] = len(unsure)\n",
    "        break\n",
    "    return accuracy_list, preds_by_vol, with_label, no_label #, unsure_dict\n"
   ]
  },
  {
   "cell_type": "code",
   "execution_count": 81,
   "metadata": {},
   "outputs": [
    {
     "name": "stdout",
     "output_type": "stream",
     "text": [
      "defaultdict(<function get_default at 0x7fbc5e4bf8b0>, {0: [53, 1, 0], 25: [16, 38, 0], 50: [51, 4, 0], 75: [53, 1, 0], 100: [53, 0, 0], 125: [53, 0, 0], 150: [54, 0, 0]})\n",
      "[0.883289124668435]\n"
     ]
    }
   ],
   "source": [
    "accuracies, preds_by_vol, with_label, no_labels = melodys_pipeline()\n",
    "print(preds_by_vol)\n",
    "print(accuracies)"
   ]
  },
  {
   "cell_type": "code",
   "execution_count": 94,
   "metadata": {},
   "outputs": [
    {
     "name": "stdout",
     "output_type": "stream",
     "text": [
      "[0.9814814814814815, 0.2962962962962963, 0.9272727272727272, 0.9814814814814815, 1.0, 1.0, 1.0]\n"
     ]
    }
   ],
   "source": [
    "vols = [0, 25, 50, 75, 100, 125, 150]\n",
    "accs_by_vol = []\n",
    "for key in preds_by_vol:\n",
    "    totals = preds_by_vol[key]\n",
    "    accs_by_vol.append(totals[0] / (totals[0] + totals[1] + totals[2]))\n",
    "print(accs_by_vol)"
   ]
  },
  {
   "cell_type": "code",
   "execution_count": 95,
   "metadata": {},
   "outputs": [
    {
     "data": {
      "text/plain": [
       "[]"
      ]
     },
     "execution_count": 95,
     "metadata": {},
     "output_type": "execute_result"
    }
   ],
   "source": [
    "no_labels"
   ]
  },
  {
   "cell_type": "code",
   "execution_count": 104,
   "metadata": {},
   "outputs": [
    {
     "data": {
      "text/plain": [
       "<BarContainer object of 7 artists>"
      ]
     },
     "execution_count": 104,
     "metadata": {},
     "output_type": "execute_result"
    },
    {
     "data": {
      "image/png": "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",
      "text/plain": [
       "<Figure size 432x288 with 1 Axes>"
      ]
     },
     "metadata": {
      "needs_background": "light"
     },
     "output_type": "display_data"
    }
   ],
   "source": [
    "plt.title(\"Prediction Accuracy of Adaptive Thresholding for Different Bead Volumes\")\n",
    "plt.xlabel(\"bead volume (nL)\")\n",
    "plt.ylabel(\"prediction accuracy\")\n",
    "plt.bar(vols, accs_by_vol, width=10)"
    "#no_labels"
   ]
  },
  {
   "cell_type": "code",
   "execution_count": 92,
   "metadata": {},
   "outputs": [
    {
     "data": {
      "text/plain": [
       "(array([  1.,   2.,   3.,   2.,   7.,   5.,  16.,  21.,  57., 476.]),\n",
       " array([0.25994695, 0.33395225, 0.40795756, 0.48196286, 0.55596817,\n",
       "        0.62997347, 0.70397878, 0.77798408, 0.85198939, 0.92599469,\n",
       "        1.        ]),\n",
       " <BarContainer object of 10 artists>)"
      ]
     },
     "execution_count": 92,
     "metadata": {},
     "output_type": "execute_result"
    },
    {
     "data": {
      "image/png": "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",
      "text/plain": [
       "<Figure size 432x288 with 1 Axes>"
      ]
     },
     "metadata": {
      "needs_background": "light"
     },
     "output_type": "display_data"
    }
   ],
   "source": [
    "plt.hist(accuracies)"
   ]
  },
  {
   "cell_type": "code",
   "execution_count": 93,
   "metadata": {},
   "outputs": [
    {
     "name": "stdout",
     "output_type": "stream",
     "text": [
      "0.8559322033898306\n"
     ]
    }
   ],
   "source": [
    "print(np.sum(np.array(accuracies)>0.9)/len(accuracies))"
   ]
  },
  {
   "cell_type": "code",
   "execution_count": 128,
   "metadata": {},
   "outputs": [
    {
     "name": "stdout",
     "output_type": "stream",
     "text": [
      "../cropped_first_batch_img/220831_120025_1008408.jpg\n",
      "4 1\n"
     ]
    }
   ],
   "source": [
    "bad_img = np.where(np.array(accuracies)<0.7)\n",
    "to_see = np.array(with_label)[bad_img]\n",
    "total_red = 0\n",
    "bad_red = 0\n",
    "for idx, img in enumerate(with_label):\n",
    "    if '220831' in img:\n",
    "        total_red += 1\n",
    "        if img in to_see:\n",
    "            bad_red += 1\n",
    "            print(img)\n",
    "print(total_red, bad_red)\n",
    "# plt.figure(1)\n",
    "# plt.imshow(cv2.imread('../first_batch_img/220519_144906_940480.jpg'))\n",
    "# plt.figure(2)\n",
    "# plt.imshow(align_to_standard('../first_batch_img/220519_144906_940480.jpg'))\n",
    "# print(to_see[6])\n",
    "# plt.figure(3)\n",
    "# plt.imshow(cv2.imread(to_see[5]))\n",
    "# labels = get_ground_truth(to_see)\n",
    "# well_imgs = isolate_each_well(load_and_preprocess_img(to_see, (3,3), 1.0, 5, 4))\n",
    "# for row in range(len(well_imgs)):\n",
    "#     for col in range(len(well_imgs[0])):\n",
    "#         print(chr(ord('A') + row) + str(col + 1))\n",
    "#         print(len(np.unique(well_imgs[row,col])))"
   ]
  },
  {
   "cell_type": "code",
   "execution_count": null,
   "metadata": {},
   "outputs": [],
   "source": [
    "# df = pd.read_csv('small_val_labels.csv')\n",
    "# df.loc[(df['col_id']==1) & (df['row_id']==1),'label'].tolist()"
   ]
  },
  {
   "cell_type": "code",
   "execution_count": null,
   "metadata": {},
   "outputs": [],
   "source": [
    "# def melodys_toy_data_pipeline(img_dir):\n",
    "#     accuracy_list = []\n",
    "#     unsure_dict = {}\n",
    "#     # read every image file from the input folder\n",
    "    \n",
    "#     right = 0\n",
    "#     wrong = 0\n",
    "#     unsure = []\n",
    "#     labels = pd.read_csv('small_val_labels.csv')\n",
    "#     # plt.figure(0)\n",
    "#     # plt.imshow(cv2.imread(img_dir,0))\n",
    "#     img_th = load_and_preprocess_img(img_dir, (3,3), 1.0, 5, 4)\n",
    "#     # plt.figure(999)\n",
    "#     # plt.imshow(img_th)\n",
    "#     well_imgs = isolate_each_well(img_th)\n",
    "#     for row in range(well_imgs.shape[0]):\n",
    "#         for col in range(well_imgs.shape[1]):\n",
    "#             truth = labels.loc[(labels['col_id']==col) & (labels['row_id']==row),'label'].tolist()\n",
    "#             if truth == [] or np.isnan(truth):\n",
    "#                 continue\n",
    "#             truth = truth[0]\n",
    "#             if exclude_wells(col, row):\n",
    "#                 continue\n",
    "#             well = np.array(well_imgs[row,col])\n",
    "#             # print(cv2.connectedComponents(well))\n",
    "#             pred = particle_detection_prediction(well)\n",
    "#             # pred = len(np.unique(well)) - 1\n",
    "#             # plt.figure((row+1)*(col+1))\n",
    "#             # plt.title(str(truth))\n",
    "#             # plt.imshow(well)\n",
    "#             if pred != -1:\n",
    "#                 if pred == truth:\n",
    "#                     right += 1\n",
    "#                 else:\n",
    "#                     wrong += 1\n",
    "#             else:\n",
    "#                 unsure.append([row, col])\n",
    "#     accuracy_list.append(right / (right + wrong + len(unsure)))\n",
    "#     unsure_dict[img_dir] = len(unsure)\n",
    "#     return accuracy_list, unsure_dict"
   ]
  },
  {
   "cell_type": "code",
   "execution_count": null,
   "metadata": {},
   "outputs": [],
   "source": [
    "# melodys_toy_data_pipeline('220118_122237_869669.jpeg')"
   ]
  },
  {
   "cell_type": "code",
   "execution_count": null,
   "metadata": {},
   "outputs": [],
   "source": []
  }
 ],
 "metadata": {
  "kernelspec": {
   "display_name": "Python 3.9.1 64-bit",
   "language": "python",
   "name": "python3"
  },
  "language_info": {
   "codemirror_mode": {
    "name": "ipython",
    "version": 3
   },
   "file_extension": ".py",
   "mimetype": "text/x-python",
   "name": "python",
   "nbconvert_exporter": "python",
   "pygments_lexer": "ipython3",
   "version": "3.9.1"
  },
  "orig_nbformat": 4,
  "vscode": {
   "interpreter": {
    "hash": "aee8b7b246df8f9039afb4144a1f6fd8d2ca17a180786b69acc140d282b71a49"
   }
  }
 },
 "nbformat": 4,
 "nbformat_minor": 2
}
