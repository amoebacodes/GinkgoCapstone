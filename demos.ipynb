{
 "cells": [
  {
   "cell_type": "markdown",
   "metadata": {},
   "source": [
    "Cropping and Rotating"
   ]
  },
  {
   "cell_type": "code",
   "execution_count": 1,
   "metadata": {},
   "outputs": [],
   "source": [
    "def crop_rotate_dir(input_dir = 'input',output_dir='output', angle = -1.5, left = 135, upper =85, right = 600, lower = 390):\n",
    "    from PIL import Image\n",
    "    import os, glob\n",
    "    # read every image file from the input folder\n",
    "    for filename in glob.glob(input_dir+'/*.jpg'):\n",
    "        # print(filename)\n",
    "        with Image.open(filename) as im:\n",
    "            # (left, upper, right, lower) = (100, 60, 630, 400)\n",
    "            rotated = im.rotate(angle, expand = 1)\n",
    "            im_final = rotated.crop((left, upper, right, lower))            \n",
    "            im_final.save(filename.replace(input_dir, output_dir))"
   ]
  },
  {
   "cell_type": "code",
   "execution_count": 3,
   "metadata": {},
   "outputs": [],
   "source": [
    "# Best parameters\n",
    "crop_rotate_dir(input_dir = 'input',output_dir='output',left = 135, upper =85, right = 600, lower = 390)"
   ]
  },
  {
   "cell_type": "code",
   "execution_count": 5,
   "metadata": {},
   "outputs": [
    {
     "data": {
      "image/png": "[encoded data removed]",
      "text/plain": [
       "<Figure size 432x288 with 1 Axes>"
      ]
     },
     "metadata": {
      "needs_background": "light"
     },
     "output_type": "display_data"
    }
   ],
   "source": [
    "# colmport the necessary libraries\n",
    "from PIL import Image\n",
    "import numpy as np\n",
    "from numpy import asarray\n",
    "import matplotlib.pyplot as plt\n",
    "import numpy as np\n",
    "import os, glob\n",
    "\n",
    "# this is a pipeline that allows you to do an operation on each well for each image\n",
    "def pipeline(input_dir = 'output'):\n",
    "    import os, glob\n",
    "    from PIL import Image\n",
    "    import numpy as np\n",
    "    from numpy import asarray\n",
    "    # read every image file from the input folder\n",
    "    big_output = []\n",
    "    pred_outputs = []\n",
    "    for filename in glob.glob(input_dir+'/*.jpg'):\n",
    "        img = Image.open(filename).convert('L')\n",
    "        img_numpydata = asarray(img)\n",
    "        y = img_numpydata.shape[0] / 16\n",
    "        x = img_numpydata.shape[1] / 24\n",
    "        output = np.zeros(shape=(16,24))\n",
    "        pred_output = np.zeros(shape=(16,24))\n",
    "        rows = 0\n",
    "        columns = 0\n",
    "        for col in np.arange(0, img_numpydata.shape[0], y):\n",
    "            for row in np.arange(0, img_numpydata.shape[1], x):\n",
    "                out = img_numpydata[round(col):round(col+y),round(row):round(row+x)]\n",
    "                min = np.amin(out)\n",
    "                output[rows,columns] = min\n",
    "                pred_output[rows,columns] = 1 if min < 38 else 0\n",
    "                columns += 1\n",
    "            rows += 1\n",
    "            columns = 0\n",
    "        np.savetxt(filename.replace(input_dir, 'output_values').replace('.jpg','.txt'), output)\n",
    "        np.savetxt(filename.replace(input_dir, 'output_pred').replace('.jpg','.txt'), pred_output)\n",
    "        pred_outputs.append(pred_output)\n",
    "        big_output.append(output)\n",
    "    # plot histogram of output\n",
    "    plt.xlabel('Values of Pixels')\n",
    "    plt.ylabel('Count')\n",
    "    plt.hist(asarray(big_output).flatten(), bins=100)\n",
    "\n",
    "pipeline()\n"
   ]
  },
  {
   "cell_type": "markdown",
   "metadata": {},
   "source": [
    "# Using the new data\n",
    "This demo below assumes that we have a folder output_pred/ that has a numpy arrays as txt 16x24 as the output of the model for each well. \n",
    "It also assumes that we have a data.csv which is the data that Ginko gave us on Oct 27th."
   ]
  },
  {
   "cell_type": "code",
   "execution_count": 18,
   "metadata": {},
   "outputs": [
    {
     "name": "stderr",
     "output_type": "stream",
     "text": [
      "/opt/anaconda3/envs/official/lib/python3.6/site-packages/ipykernel_launcher.py:47: RuntimeWarning: invalid value encountered in long_scalars\n"
     ]
    }
   ],
   "source": [
    "import pandas as pd\n",
    "import numpy as np\n",
    "# takes in a numpy array with the predicted labels and csv and outputs metrics \n",
    "def verification(pred_filename, df2):\n",
    "    # get destination_plate_bcode\n",
    "    destination_plate_bcode = pred_filename.split('_')[-1].split('.')[0]\n",
    "    # read in csv\n",
    "    df = df2.copy()\n",
    "    # get the rows which have matching \"destination_plate_bcode\"\n",
    "    df = df[df['destination_plate_bcode'] == destination_plate_bcode]\n",
    "    # read destination well of each row\n",
    "    destination_wells = df['destination_well'].values\n",
    "\n",
    "    letters_to_index = {\n",
    "        \"A\": 0,\n",
    "        \"B\": 1,\n",
    "        \"C\": 2,\n",
    "        \"D\": 3,\n",
    "        \"E\": 4,\n",
    "        \"F\": 5,\n",
    "        \"G\": 6,\n",
    "        \"H\": 7,\n",
    "        \"I\": 8,\n",
    "        \"J\": 9,\n",
    "        \"K\": 10,\n",
    "        \"L\": 11,\n",
    "        \"M\": 12,\n",
    "        \"N\": 13,\n",
    "        \"O\": 14,\n",
    "        \"P\": 15\n",
    "    }\n",
    "\n",
    "    ground_truth = np.zeros(shape=(16,24))\n",
    "    for destination in destination_wells:\n",
    "        row = letters_to_index[destination[0]]\n",
    "        col = int(destination[1:]) - 1\n",
    "        ground_truth[row, col] = 1\n",
    "\n",
    "    # read in the predicted values\n",
    "    pred = np.loadtxt(pred_filename)\n",
    "    # calculate the metrics\n",
    "    tp = np.sum(np.logical_and(pred == 1, ground_truth == 1))\n",
    "    tn = np.sum(np.logical_and(pred == 0, ground_truth == 0))\n",
    "    fp = np.sum(np.logical_and(pred == 1, ground_truth == 0))\n",
    "    fn = np.sum(np.logical_and(pred == 0, ground_truth == 1))\n",
    "    precision = tp / (tp + fp)\n",
    "    recall = tp / (tp + fn)\n",
    "    f1 = 2 * (precision * recall) / (precision + recall)\n",
    "    accuracy = (tp + tn) / (tp + tn + fp + fn)\n",
    "\n",
    "    return precision, recall, f1, accuracy\n",
    "\n",
    "# get the average accuracy of all the images\n",
    "def verification_all_plates(dir=\"output_pred\"):\n",
    "    import os, glob\n",
    "    # read every image file from the input folder\n",
    "    acc = []\n",
    "    df = pd.read_csv('data.csv')\n",
    "\n",
    "    for filename in glob.glob(dir+'/*.txt'):\n",
    "        # print(filename)\n",
    "        p, r, f1, a = verification(filename, df)\n",
    "        acc.append(a)\n",
    "    return np.mean(acc), acc\n",
    "\n",
    "output = verification_all_plates()\n",
    "# verification(\"/Users/JIMENDI1/Documents/ginko/output_pred/220104_150753_862416.txt\", \"data.csv\")"
   ]
  },
  {
   "cell_type": "code",
   "execution_count": 19,
   "metadata": {},
   "outputs": [
    {
     "data": {
      "text/plain": [
       "(array([414.,   2.,   0.,   0.,   0.,   0.,   0.,   0.,   0.,   0.,   0.,\n",
       "          0.,   0.,   0.,   0.,   0.,   2.,   6.,  36., 751.]),\n",
       " array([0.        , 0.04895833, 0.09791667, 0.146875  , 0.19583333,\n",
       "        0.24479167, 0.29375   , 0.34270833, 0.39166667, 0.440625  ,\n",
       "        0.48958333, 0.53854167, 0.5875    , 0.63645833, 0.68541667,\n",
       "        0.734375  , 0.78333333, 0.83229167, 0.88125   , 0.93020833,\n",
       "        0.97916667]),\n",
       " <BarContainer object of 20 artists>)"
      ]
     },
     "execution_count": 19,
     "metadata": {},
     "output_type": "execute_result"
    },
    {
     "data": {
      "image/png": "[encoded data removed]",
      "text/plain": [
       "<Figure size 432x288 with 1 Axes>"
      ]
     },
     "metadata": {
      "needs_background": "light"
     },
     "output_type": "display_data"
    }
   ],
   "source": [
    "plt.xlabel('Values of Accuracy')\n",
    "plt.ylabel('Count')\n",
    "plt.hist(output[1], bins=20)"
   ]
  }
 ],
 "metadata": {
  "kernelspec": {
   "display_name": "Python 3.6.13 ('official')",
   "language": "python",
   "name": "python3"
  },
  "language_info": {
   "codemirror_mode": {
    "name": "ipython",
    "version": 3
   },
   "file_extension": ".py",
   "mimetype": "text/x-python",
   "name": "python",
   "nbconvert_exporter": "python",
   "pygments_lexer": "ipython3",
   "version": "3.6.13"
  },
  "orig_nbformat": 4,
  "vscode": {
   "interpreter": {
    "hash": "5e43d9c31685e7e8f9a62e9b89267a6a1f8cf4795ff4fc2ecbeaf18b3eb1d92e"
   }
  }
 },
 "nbformat": 4,
 "nbformat_minor": 2
}
