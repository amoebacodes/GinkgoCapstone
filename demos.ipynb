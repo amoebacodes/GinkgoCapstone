{
 "cells": [
  {
   "cell_type": "code",
   "execution_count": null,
   "metadata": {},
   "outputs": [],
   "source": [
    "from cmath import nan\n",
    "from PIL import Image\n",
    "import numpy as np\n",
    "from numpy import asarray\n",
    "import matplotlib.pyplot as plt\n",
    "import os, glob\n",
    "from PIL import Image\n",
    "import cv2\n",
    "import pandas as pd"
   ]
  },
  {
   "cell_type": "code",
   "execution_count": null,
   "metadata": {},
   "outputs": [],
   "source": [
    "\"\"\"\n",
    "image registration and cropping functions\n",
    "\"\"\"\n",
    "def align_to_standard(img_dir, src_dir='src.jpeg'):\n",
    "    src_color = cv2.imread(src_dir)\n",
    "    sbj_color = cv2.imread(img_dir)\n",
    "\n",
    "    src = cv2.cvtColor(src_color, cv2.COLOR_BGR2GRAY)\n",
    "    sbj = cv2.cvtColor(sbj_color, cv2.COLOR_BGR2GRAY)\n",
    "    \n",
    "    orb_detector = cv2.ORB_create(500)\n",
    "    src_keypoints, src_descriptors = orb_detector.detectAndCompute(src, None)\n",
    "    sbj_keypoints, sbj_descriptors = orb_detector.detectAndCompute(sbj,None)\n",
    "\n",
    "    matcher = cv2.BFMatcher(cv2.NORM_HAMMING, crossCheck = True)\n",
    "    matches = list(matcher.match(sbj_descriptors, src_descriptors))\n",
    "    \n",
    "    matches.sort(key = lambda x: x.distance)\n",
    "    matches = matches[:int(len(matches)*0.9)]\n",
    "    # records matched keypoints' coordinates\n",
    "    no_of_matches = len(matches)\n",
    "    p1 = np.zeros((no_of_matches, 2))\n",
    "    p2 = np.zeros((no_of_matches, 2))\n",
    "\n",
    "    for i in range(no_of_matches):\n",
    "        p1[i, :] = sbj_keypoints[matches[i].queryIdx].pt\n",
    "        p2[i, :] = src_keypoints[matches[i].trainIdx].pt\n",
    "    \n",
    "    homography, mask = cv2.findHomography(p1, p2, cv2.RANSAC)\n",
    "    transformed_img = cv2.warpPerspective(sbj_color,\n",
    "                        homography, (src.shape[1], src.shape[0]))\n",
    "    return transformed_img\n",
    "\n",
    "def crop_rotate_dir(img, og_file_dir, output_dir, angle = -1.5, left = 135, upper =85, right = 600, lower = 390):\n",
    "    filename = og_file_dir.split('/')[-1]\n",
    "    im = Image.fromarray(img)\n",
    "    rotated = im.rotate(angle, expand = 1)\n",
    "    im_final = rotated.crop((left, upper, right, lower))            \n",
    "    im_final.save(output_dir+'/'+filename)"
   ]
  },
  {
   "cell_type": "code",
   "execution_count": null,
   "metadata": {},
   "outputs": [],
   "source": [
    "\"\"\"\n",
    "input: filename of plate\n",
    "output: pd df of the ground truth for that plate\n",
    "\"\"\"\n",
    "from typing import Tuple\n",
    "\n",
    "all_labels = pd.read_csv('updated_ground_truth.csv')\n",
    "\n",
    "def get_ground_truth(filename: str):\n",
    "    id = filename.split('_')[-1].split('.')[0]\n",
    "    this_labels = all_labels.loc[all_labels[\"destination_plate_bcode\"]==int(id),['destination_well']].to_numpy()\n",
    "    return this_labels\n",
    "\n",
    "\"\"\"\n",
    "gaussian_kernel_size: greater = blurring in larger neighborhood\n",
    "gaussian_sigma: greater sigma = more blurring\n",
    "adp_th_block_size needs to be odd: greater = looking at local intensities in a larger neighborhood\n",
    "adp_th_const is a constant that is subtracted from the weighted mean; greater = effectively more noise reduction\n",
    "\"\"\"\n",
    "def load_and_preprocess_img(filename: str, gaussian_kernel_size: Tuple = (3,3), gaussian_sigma: float = 1.0, adp_th_block_size: int = 5, adp_th_const: int = 4):\n",
    "    img = cv2.imread(filename, cv2.IMREAD_GRAYSCALE)\n",
    "    img_blurred = cv2.GaussianBlur(img, gaussian_kernel_size, gaussian_sigma)\n",
    "    img_th = cv2.adaptiveThreshold(img_blurred, 255, cv2.ADAPTIVE_THRESH_GAUSSIAN_C, cv2.THRESH_BINARY_INV, adp_th_block_size, adp_th_const)\n",
    "    return img_th\n",
    "\n",
    "\"\"\"\n",
    "exclude wells with black background\n",
    "\"\"\"\n",
    "def exclude_wells(col_idx, row_idx):\n",
    "    if ((col_idx == 2 or col_idx == 3) and row_idx == 12) or ((row_idx ==0 or row_idx == 15) and (col_idx==11 or col_idx ==12)) or (row_idx == 2 and col_idx==20):\n",
    "        return True\n",
    "    return False\n",
    "\"\"\"\n",
    "input: img or preprocessed img\n",
    "output: conceptually a matrix of 16 x 24, each entry is the isolated well image\n",
    "\"\"\"\n",
    "def isolate_each_well(img_th):\n",
    "    to_return = []\n",
    "    y = img_th.shape[0] / 16\n",
    "    x = img_th.shape[1] / 24\n",
    "    for row in np.arange(0, img_th.shape[0], y):\n",
    "        col_out = []\n",
    "        for col in np.arange(0, img_th.shape[1], x):\n",
    "            col_out.append(img_th[round(row):round(row+y),round(col):round(col+x)])\n",
    "        to_return.append(col_out)\n",
    "    return np.array(to_return, dtype=object)\n",
    "\n",
    "\"\"\"\n",
    "If one and only one particle is detected, report 1\n",
    "If no particle detected, report 0\n",
    "else: report -1 to indicate ambiguity\n",
    "\"\"\"\n",
    "def particle_detection_prediction(well_img):\n",
    "    nb_components, arr = cv2.connectedComponents(well_img, connectivity=8)\n",
    "    if nb_components - 1 == 1:\n",
    "        pred = 1\n",
    "    elif nb_components - 1 == 0:\n",
    "        pred = 0\n",
    "    else:\n",
    "        pred = -1\n",
    "    return pred"
   ]
  },
  {
   "cell_type": "code",
   "execution_count": 89,
   "metadata": {},
   "outputs": [],
   "source": [
    "\"\"\"\n",
    "Uses particle detection to predict whether or not bead is present.\n",
    "Returns accuracy and a list of unsure well locations for each img (if particle_detection_prediction returns -1)\n",
    "    which means that more than one particle is detected in the well\n",
    "\"\"\"\n",
    "from numpy import isnan\n",
    "\n",
    "def melodys_pipeline(input_dir = '../first_batch_img', cropped_output_dir = '../cropped_first_batch_img'):\n",
    "    # save aligned and cropped imgs to disk to avoid taking up too much memory\n",
    "    # for filename in glob.glob(input_dir+'/*.jpg'):\n",
    "    #     print(filename)\n",
    "    #     img = align_to_standard(filename)\n",
    "    #     crop_rotate_dir(img, filename, output_dir=cropped_output_dir,left = 135, upper =85, right = 600, lower = 390)\n",
    "\n",
    "    accuracy_list = []\n",
    "    with_label = []\n",
    "    no_label = []\n",
    "    # unsure_dict = {}\n",
    "    # read every image file from the input folder\n",
    "    for filename in glob.glob(cropped_output_dir +'/*.jpg'):\n",
    "        right = 0\n",
    "        wrong = 0\n",
    "        unsure = []\n",
    "        labels = get_ground_truth(filename)\n",
    "        if len(labels) == 0:\n",
    "            no_label.append(filename)\n",
    "            continue\n",
    "        with_label.append(filename)\n",
    "        img_th = load_and_preprocess_img(filename, (3,3), 1.0, 5, 4)\n",
    "        well_imgs = isolate_each_well(img_th)\n",
    "        for row in range(well_imgs.shape[0]):\n",
    "            for col in range(well_imgs.shape[1]):\n",
    "                if exclude_wells(col, row):\n",
    "                    continue\n",
    "                well = np.array(well_imgs[row,col])\n",
    "                # pred = particle_detection_prediction(well) # comment this if using only num of val in thresholded img and uncomment the following line\n",
    "                pred = len(np.unique(well)) - 1 \n",
    "                if pred != -1:\n",
    "                    #get truth\n",
    "                    well_id = chr(ord('A') + row) + str(col + 1)\n",
    "                    if well_id in labels:\n",
    "                        truth = 1\n",
    "                    else:\n",
    "                        truth = 0\n",
    "                        \n",
    "                    if pred == truth:\n",
    "                        right += 1\n",
    "                    else:\n",
    "                        wrong += 1\n",
    "                else:\n",
    "                    unsure.append([row, col])\n",
    "        accuracy_list.append(right / (right + wrong + len(unsure)))\n",
    "        # unsure_dict[filename] = len(unsure)\n",
    "    return accuracy_list, with_label, no_label #, unsure_dict"
   ]
  },
  {
   "cell_type": "code",
   "execution_count": 90,
   "metadata": {},
   "outputs": [],
   "source": [
    "accuracies, with_label, no_labels = melodys_pipeline()"
   ]
  },
  {
   "cell_type": "code",
   "execution_count": 91,
   "metadata": {},
   "outputs": [
    {
     "data": {
      "text/plain": [
       "['../cropped_first_batch_img/220304_121253_897871.jpg',\n",
       " '../cropped_first_batch_img/220311_131245_902144.jpg',\n",
       " '../cropped_first_batch_img/220311_130343_902143.jpg',\n",
       " '../cropped_first_batch_img/220304_124800_897870.jpg',\n",
       " '../cropped_first_batch_img/220304_130557_897872.jpg',\n",
       " '../cropped_first_batch_img/220304_114822_897870.jpg',\n",
       " '../cropped_first_batch_img/220304_123855_897869.jpg',\n",
       " '../cropped_first_batch_img/220311_123951_902144.jpg',\n",
       " '../cropped_first_batch_img/220311_121952_902143.jpg',\n",
       " '../cropped_first_batch_img/220304_123254_897872.jpg',\n",
       " '../cropped_first_batch_img/220304_114444_897869.jpg',\n",
       " '../cropped_first_batch_img/220304_125653_897871.jpg',\n",
       " '../cropped_first_batch_img/220311_125438_902142.jpg',\n",
       " '../cropped_first_batch_img/220311_124536_902141.jpg',\n",
       " '../cropped_first_batch_img/220311_115935_902142.jpg',\n",
       " '../cropped_first_batch_img/220311_115450_902141.jpg']"
      ]
     },
     "execution_count": 91,
     "metadata": {},
     "output_type": "execute_result"
    }
   ],
   "source": [
    "no_labels"
   ]
  },
  {
   "cell_type": "code",
   "execution_count": 92,
   "metadata": {},
   "outputs": [
    {
     "data": {
      "text/plain": [
       "(array([  1.,   2.,   3.,   2.,   7.,   5.,  16.,  21.,  57., 476.]),\n",
       " array([0.25994695, 0.33395225, 0.40795756, 0.48196286, 0.55596817,\n",
       "        0.62997347, 0.70397878, 0.77798408, 0.85198939, 0.92599469,\n",
       "        1.        ]),\n",
       " <BarContainer object of 10 artists>)"
      ]
     },
     "execution_count": 92,
     "metadata": {},
     "output_type": "execute_result"
    },
    {
     "data": {
      "image/png": "[encoded data removed]",
      "text/plain": [
       "<Figure size 432x288 with 1 Axes>"
      ]
     },
     "metadata": {
      "needs_background": "light"
     },
     "output_type": "display_data"
    }
   ],
   "source": [
    "plt.hist(accuracies)"
   ]
  },
  {
   "cell_type": "code",
   "execution_count": 93,
   "metadata": {},
   "outputs": [
    {
     "name": "stdout",
     "output_type": "stream",
     "text": [
      "0.8559322033898306\n"
     ]
    }
   ],
   "source": [
    "print(np.sum(np.array(accuracies)>0.9)/len(accuracies))"
   ]
  },
  {
   "cell_type": "code",
   "execution_count": 128,
   "metadata": {},
   "outputs": [
    {
     "name": "stdout",
     "output_type": "stream",
     "text": [
      "../cropped_first_batch_img/220831_120025_1008408.jpg\n",
      "4 1\n"
     ]
    }
   ],
   "source": [
    "bad_img = np.where(np.array(accuracies)<0.7)\n",
    "to_see = np.array(with_label)[bad_img]\n",
    "total_red = 0\n",
    "bad_red = 0\n",
    "for idx, img in enumerate(with_label):\n",
    "    if '220831' in img:\n",
    "        total_red += 1\n",
    "        if img in to_see:\n",
    "            bad_red += 1\n",
    "            print(img)\n",
    "print(total_red, bad_red)\n",
    "# plt.figure(1)\n",
    "# plt.imshow(cv2.imread('../first_batch_img/220519_144906_940480.jpg'))\n",
    "# plt.figure(2)\n",
    "# plt.imshow(align_to_standard('../first_batch_img/220519_144906_940480.jpg'))\n",
    "# print(to_see[6])\n",
    "# plt.figure(3)\n",
    "# plt.imshow(cv2.imread(to_see[5]))\n",
    "# labels = get_ground_truth(to_see)\n",
    "# well_imgs = isolate_each_well(load_and_preprocess_img(to_see, (3,3), 1.0, 5, 4))\n",
    "# for row in range(len(well_imgs)):\n",
    "#     for col in range(len(well_imgs[0])):\n",
    "#         print(chr(ord('A') + row) + str(col + 1))\n",
    "#         print(len(np.unique(well_imgs[row,col])))"
   ]
  },
  {
   "cell_type": "code",
   "execution_count": null,
   "metadata": {},
   "outputs": [],
   "source": [
    "# df = pd.read_csv('small_val_labels.csv')\n",
    "# df.loc[(df['col_id']==1) & (df['row_id']==1),'label'].tolist()"
   ]
  },
  {
   "cell_type": "code",
   "execution_count": null,
   "metadata": {},
   "outputs": [],
   "source": [
    "# def melodys_toy_data_pipeline(img_dir):\n",
    "#     accuracy_list = []\n",
    "#     unsure_dict = {}\n",
    "#     # read every image file from the input folder\n",
    "    \n",
    "#     right = 0\n",
    "#     wrong = 0\n",
    "#     unsure = []\n",
    "#     labels = pd.read_csv('small_val_labels.csv')\n",
    "#     # plt.figure(0)\n",
    "#     # plt.imshow(cv2.imread(img_dir,0))\n",
    "#     img_th = load_and_preprocess_img(img_dir, (3,3), 1.0, 5, 4)\n",
    "#     # plt.figure(999)\n",
    "#     # plt.imshow(img_th)\n",
    "#     well_imgs = isolate_each_well(img_th)\n",
    "#     for row in range(well_imgs.shape[0]):\n",
    "#         for col in range(well_imgs.shape[1]):\n",
    "#             truth = labels.loc[(labels['col_id']==col) & (labels['row_id']==row),'label'].tolist()\n",
    "#             if truth == [] or np.isnan(truth):\n",
    "#                 continue\n",
    "#             truth = truth[0]\n",
    "#             if exclude_wells(col, row):\n",
    "#                 continue\n",
    "#             well = np.array(well_imgs[row,col])\n",
    "#             # print(cv2.connectedComponents(well))\n",
    "#             pred = particle_detection_prediction(well)\n",
    "#             # pred = len(np.unique(well)) - 1\n",
    "#             # plt.figure((row+1)*(col+1))\n",
    "#             # plt.title(str(truth))\n",
    "#             # plt.imshow(well)\n",
    "#             if pred != -1:\n",
    "#                 if pred == truth:\n",
    "#                     right += 1\n",
    "#                 else:\n",
    "#                     wrong += 1\n",
    "#             else:\n",
    "#                 unsure.append([row, col])\n",
    "#     accuracy_list.append(right / (right + wrong + len(unsure)))\n",
    "#     unsure_dict[img_dir] = len(unsure)\n",
    "#     return accuracy_list, unsure_dict"
   ]
  },
  {
   "cell_type": "code",
   "execution_count": null,
   "metadata": {},
   "outputs": [],
   "source": [
    "# melodys_toy_data_pipeline('220118_122237_869669.jpeg')"
   ]
  },
  {
   "cell_type": "code",
   "execution_count": null,
   "metadata": {},
   "outputs": [],
   "source": []
  }
 ],
 "metadata": {
  "kernelspec": {
   "display_name": "Python 3.8.0 64-bit",
   "language": "python",
   "name": "python3"
  },
  "language_info": {
   "codemirror_mode": {
    "name": "ipython",
    "version": 3
   },
   "file_extension": ".py",
   "mimetype": "text/x-python",
   "name": "python",
   "nbconvert_exporter": "python",
   "pygments_lexer": "ipython3",
   "version": "3.8.0"
  },
  "orig_nbformat": 4,
  "vscode": {
   "interpreter": {
    "hash": "0adcc2737ebf6a4a119f135174df96668767fca1ef1112612db5ecadf2b6d608"
   }
  }
 },
 "nbformat": 4,
 "nbformat_minor": 2
}
