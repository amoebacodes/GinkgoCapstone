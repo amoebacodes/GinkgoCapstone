{
 "cells": [
  {
   "cell_type": "code",
   "execution_count": 2,
   "metadata": {},
   "outputs": [
    {
     "name": "stderr",
     "output_type": "stream",
     "text": [
      "2022-12-16 10:51:49,144 - WARNING - We suggest giving your plate a name so the heatmap title can be more descriptive.\n",
      "2022-12-16 10:51:49,144 - INFO - Arguments validated!\n",
      "2022-12-16 10:51:49,145 - INFO - Initializing...\n",
      "2022-12-16 10:51:49,145 - INFO - Getting ready to run adaptive_thresholding method...\n",
      "2022-12-16 10:51:49,145 - INFO - Performing image registration...\n",
      "2022-12-16 10:51:49,224 - INFO - Getting heatmap...\n",
      "2022-12-16 10:51:49,226 - INFO - Cropping out wells from the plate image...\n",
      "2022-12-16 10:51:49,228 - INFO - Finding beads...\n",
      "processing rows:   0%|          | 0/16 [00:00<?, ?it/s]\n",
      "processing columns for each row:   0%|          | 0/24 [00:00<?, ?it/s]\u001b[A\n",
      "                                                                       \u001b[A\n",
      "processing columns for each row:   0%|          | 0/24 [00:00<?, ?it/s]\u001b[A\n",
      "                                                                       \u001b[A\n",
      "processing columns for each row:   0%|          | 0/24 [00:00<?, ?it/s]\u001b[A\n",
      "                                                                       \u001b[A\n",
      "processing columns for each row:   0%|          | 0/24 [00:00<?, ?it/s]\u001b[A\n",
      "                                                                       \u001b[A\n",
      "processing columns for each row:   0%|          | 0/24 [00:00<?, ?it/s]\u001b[A\n",
      "                                                                       \u001b[A\n",
      "processing columns for each row:   0%|          | 0/24 [00:00<?, ?it/s]\u001b[A\n",
      "                                                                       \u001b[A\n",
      "processing columns for each row:   0%|          | 0/24 [00:00<?, ?it/s]\u001b[A\n",
      "                                                                       \u001b[A\n",
      "processing columns for each row:   0%|          | 0/24 [00:00<?, ?it/s]\u001b[A\n",
      "                                                                       \u001b[A\n",
      "processing columns for each row:   0%|          | 0/24 [00:00<?, ?it/s]\u001b[A\n",
      "                                                                       \u001b[A\n",
      "processing columns for each row:   0%|          | 0/24 [00:00<?, ?it/s]\u001b[A\n",
      "                                                                       \u001b[A\n",
      "processing columns for each row:   0%|          | 0/24 [00:00<?, ?it/s]\u001b[A\n",
      "                                                                       \u001b[A\n",
      "processing columns for each row:   0%|          | 0/24 [00:00<?, ?it/s]\u001b[A\n",
      "                                                                       \u001b[A\n",
      "processing columns for each row:   0%|          | 0/24 [00:00<?, ?it/s]\u001b[A\n",
      "                                                                       \u001b[A\n",
      "processing columns for each row:   0%|          | 0/24 [00:00<?, ?it/s]\u001b[A\n",
      "                                                                       \u001b[A\n",
      "processing columns for each row:   0%|          | 0/24 [00:00<?, ?it/s]\u001b[A\n",
      "                                                                       \u001b[A\n",
      "processing columns for each row:   0%|          | 0/24 [00:00<?, ?it/s]\u001b[A\n",
      "processing rows: 100%|██████████| 16/16 [00:00<00:00, 1346.95it/s]     \u001b[A\n",
      "2022-12-16 10:51:49,312 - INFO - Showing heatmap...Please close the pop-up window to proceed.\n"
     ]
    },
    {
     "name": "stdout",
     "output_type": "stream",
     "text": [
      "Figure(640x480)\n",
      "Well_ids with beads: \n",
      " ['A1', 'A2', 'A3', 'A4', 'A5', 'A6', 'A7', 'A8', 'A9', 'A10', 'A11', 'A14', 'A17', 'A18', 'A19', 'A20', 'A21', 'A22', 'A24', 'B1', 'B2', 'B3', 'B4', 'B5', 'B7', 'B8', 'B9', 'B10', 'B11', 'B12', 'B13', 'B14', 'B15', 'B16', 'B17', 'B18', 'B19', 'B20', 'B21', 'B22', 'B23', 'B24', 'C1', 'C2', 'C3', 'C4', 'C5', 'C6', 'C7', 'C8', 'C9', 'C10', 'C11', 'C12', 'C13', 'C14', 'C15', 'C16', 'C17', 'C18', 'C19', 'C20', 'C22', 'C23', 'C24', 'D1', 'D2', 'D3', 'D4', 'D5', 'D6', 'D7', 'D8', 'D9', 'D10', 'D11', 'D12', 'D13', 'D14', 'D15', 'D16', 'D17', 'D18', 'D19', 'D20', 'D21', 'D22', 'D23', 'D24', 'E1', 'E2', 'E3', 'E4', 'E5', 'E6', 'E7', 'E8', 'E9', 'E10', 'E12', 'E14', 'E16', 'E18', 'E20', 'E22', 'E24', 'F1', 'F2', 'F3', 'F4', 'F5', 'F6', 'F7', 'F8', 'F9', 'F10', 'F11', 'F12', 'F13', 'F14', 'F15', 'F16', 'F17', 'F18', 'F19', 'F20', 'F21', 'F22', 'F23', 'F24', 'G2', 'G4', 'G6', 'G8', 'G10', 'G12', 'G14', 'G16', 'G18', 'G20', 'G22', 'G24', 'H1', 'H2', 'H3', 'H4', 'H5', 'H6', 'H7', 'H8', 'H9', 'H10', 'H11', 'H12', 'H13', 'H14', 'H15', 'H16', 'H17', 'H18', 'H19', 'H20', 'H21', 'H22', 'H23', 'H24', 'I2', 'I4', 'I6', 'I8', 'I10', 'I12', 'I14', 'I16', 'I18', 'I20', 'I22', 'I24', 'J1', 'J2', 'J3', 'J4', 'J5', 'J6', 'J7', 'J9', 'J11', 'J13', 'J15', 'J17', 'J19', 'J21', 'J23', 'K2', 'K4', 'K6', 'K8', 'K10', 'K12', 'K14', 'K16', 'K18', 'K20', 'K22', 'L1', 'L3', 'L5', 'L7', 'L9', 'L11', 'L13', 'L15', 'L17', 'L19', 'L21', 'L23', 'M2', 'M6', 'M8', 'M10', 'M12', 'M14', 'M16', 'M18', 'M20', 'M22', 'M24', 'N1', 'N3', 'N5', 'N7', 'N9', 'N11', 'N13', 'N15', 'N17', 'N19', 'N21', 'N23', 'O2', 'O4', 'O6', 'O8', 'O10', 'O12', 'O14', 'O16', 'O18', 'O20', 'O22', 'O24', 'P1', 'P3', 'P5', 'P7', 'P9', 'P11', 'P15', 'P17', 'P19', 'P21', 'P23']\n",
      "They are at the following coordinates: \n",
      " [0, 1, 2, 3, 4, 5, 6, 7, 8, 9, 10, 13, 16, 17, 18, 19, 20, 21, 23, 1, 3, 5, 7, 9, 13, 15, 17, 19, 21, 23, 25, 27, 29, 31, 33, 35, 37, 39, 41, 43, 45, 47, 2, 5, 8, 11, 14, 17, 20, 23, 26, 29, 32, 35, 38, 41, 44, 47, 50, 53, 56, 59, 65, 68, 71, 3, 7, 11, 15, 19, 23, 27, 31, 35, 39, 43, 47, 51, 55, 59, 63, 67, 71, 75, 79, 83, 87, 91, 95, 4, 9, 14, 19, 24, 29, 34, 39, 44, 49, 59, 69, 79, 89, 99, 109, 119, 5, 11, 17, 23, 29, 35, 41, 47, 53, 59, 65, 71, 77, 83, 89, 95, 101, 107, 113, 119, 125, 131, 137, 143, 13, 27, 41, 55, 69, 83, 97, 111, 125, 139, 153, 167, 7, 15, 23, 31, 39, 47, 55, 63, 71, 79, 87, 95, 103, 111, 119, 127, 135, 143, 151, 159, 167, 175, 183, 191, 17, 35, 53, 71, 89, 107, 125, 143, 161, 179, 197, 215, 9, 19, 29, 39, 49, 59, 69, 89, 109, 129, 149, 169, 189, 209, 229, 21, 43, 65, 87, 109, 131, 153, 175, 197, 219, 241, 11, 35, 59, 83, 107, 131, 155, 179, 203, 227, 251, 275, 25, 77, 103, 129, 155, 181, 207, 233, 259, 285, 311, 13, 41, 69, 97, 125, 153, 181, 209, 237, 265, 293, 321, 29, 59, 89, 119, 149, 179, 209, 239, 269, 299, 329, 359, 15, 47, 79, 111, 143, 175, 239, 271, 303, 335, 367]\n",
      "There are 262/384 or about 68% wells that have mag.beads\n"
     ]
    },
    {
     "data": {
      "text/plain": [
       "0"
      ]
     },
     "execution_count": 2,
     "metadata": {},
     "output_type": "execute_result"
    }
   ],
   "source": [
    "import os\n",
    "os.system(\"python3 main.py --algorithm_name=adaptive_thresholding --output_path=/Users/yiqingmelodywang/img.png --image_path='221019_122109_1043495.jpg' --image_registration=True --show_heatmap=True\")"
   ]
  },
  {
   "cell_type": "code",
   "execution_count": 1,
   "metadata": {},
   "outputs": [],
   "source": [
    "\"\"\"\n",
    "Run this cell if you would like to see more logging messages\n",
    "You only need to run this cell once. Otherwise, multiple instantiated\n",
    "loggers will output the same messages, resulting in repeats in output\n",
    "\"\"\"\n",
    "from helper import config_logger\n",
    "logger = config_logger()"
   ]
  },
  {
   "cell_type": "code",
   "execution_count": 6,
   "metadata": {},
   "outputs": [
    {
     "name": "stderr",
     "output_type": "stream",
     "text": [
      "2022-12-16 11:24:14,724 - INFO - Initializing...\n",
      "2022-12-16 11:24:14,726 - INFO - Getting ready to run average_thresholding method...\n",
      "2022-12-16 11:24:14,739 - INFO - Getting heatmap...\n",
      "2022-12-16 11:24:14,744 - INFO - Cropping out wells from the plate image...\n",
      "2022-12-16 11:24:14,755 - INFO - Finding beads...\n",
      "processing columns for each row: 100%|██████████| 24/24 [00:00<00:00, 6912.74it/s]\n",
      "processing columns for each row: 100%|██████████| 24/24 [00:00<00:00, 13511.85it/s]\n",
      "processing columns for each row: 100%|██████████| 24/24 [00:00<00:00, 11571.82it/s]\n",
      "processing columns for each row: 100%|██████████| 24/24 [00:00<00:00, 13437.90it/s]\n",
      "processing columns for each row: 100%|██████████| 24/24 [00:00<00:00, 5019.86it/s]\n",
      "processing columns for each row: 100%|██████████| 24/24 [00:00<00:00, 13165.48it/s]\n",
      "processing columns for each row: 100%|██████████| 24/24 [00:00<00:00, 11309.21it/s]\n",
      "processing columns for each row: 100%|██████████| 24/24 [00:00<00:00, 13102.08it/s]\n",
      "processing columns for each row: 100%|██████████| 24/24 [00:00<00:00, 12153.00it/s]\n",
      "processing columns for each row: 100%|██████████| 24/24 [00:00<00:00, 4090.67it/s]\n",
      "processing columns for each row: 100%|██████████| 24/24 [00:00<00:00, 1543.80it/s]\n",
      "processing columns for each row: 100%|██████████| 24/24 [00:00<00:00, 13776.28it/s]\n",
      "processing columns for each row: 100%|██████████| 24/24 [00:00<00:00, 10160.83it/s]\n",
      "processing columns for each row: 100%|██████████| 24/24 [00:00<00:00, 8280.96it/s]\n",
      "processing columns for each row: 100%|██████████| 24/24 [00:00<00:00, 13475.68it/s]\n",
      "processing columns for each row: 100%|██████████| 24/24 [00:00<00:00, 7168.73it/s]\n",
      "processing rows: 100%|██████████| 16/16 [00:00<00:00, 66.31it/s]\n",
      "2022-12-16 11:24:15,101 - INFO - Saving heatmap...\n"
     ]
    },
    {
     "name": "stdout",
     "output_type": "stream",
     "text": [
      "Well_ids with beads: \n",
      " ['P14']\n",
      "They are at the following coordinates: \n",
      " [223]\n",
      "There are 1/384 or about 0% wells that have mag.beads\n"
     ]
    },
    {
     "data": {
      "image/png": "[encoded data removed]",
      "text/plain": [
       "<Figure size 432x288 with 1 Axes>"
      ]
     },
     "metadata": {
      "needs_background": "light"
     },
     "output_type": "display_data"
    }
   ],
   "source": [
    "from BeadFinder import *\n",
    "\n",
    "instance = BeadFinder(image_path='221019_122109_1043495.jpg', algorithm_name='average_thresholding', label='demo_plate', image_registration=False, show_heatmap=False, output_path='./demo_plate.png')\n",
    "beads_ids, beads_coors, count = instance.find_beads()"
   ]
  },
  {
   "cell_type": "code",
   "execution_count": null,
   "metadata": {},
   "outputs": [],
   "source": []
  }
 ],
 "metadata": {
  "kernelspec": {
   "display_name": "Python 3",
   "language": "python",
   "name": "python3"
  },
  "language_info": {
   "codemirror_mode": {
    "name": "ipython",
    "version": 3
   },
   "file_extension": ".py",
   "mimetype": "text/x-python",
   "name": "python",
   "nbconvert_exporter": "python",
   "pygments_lexer": "ipython3",
   "version": "3.8.0"
  },
  "orig_nbformat": 4,
  "vscode": {
   "interpreter": {
    "hash": "0adcc2737ebf6a4a119f135174df96668767fca1ef1112612db5ecadf2b6d608"
   }
  }
 },
 "nbformat": 4,
 "nbformat_minor": 2
}
