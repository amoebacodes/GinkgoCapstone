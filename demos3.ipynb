{
 "cells": [
  {
   "cell_type": "code",
   "execution_count": 2,
   "metadata": {},
   "outputs": [],
   "source": [
    "from cmath import nan\n",
    "from PIL import Image\n",
    "import numpy as np\n",
    "from numpy import asarray\n",
    "import matplotlib.pyplot as plt\n",
    "import os, glob\n",
    "from PIL import Image\n",
    "import cv2\n",
    "import pandas as pd"
   ]
  },
  {
   "cell_type": "code",
   "execution_count": 3,
   "metadata": {},
   "outputs": [],
   "source": [
    "\"\"\"\n",
    "image registration and cropping functions\n",
    "\"\"\"\n",
    "def align_to_standard(img_dir, src_dir='src.jpeg'):\n",
    "    src_color = cv2.imread(src_dir)\n",
    "    sbj_color = cv2.imread(img_dir)\n",
    "\n",
    "    src = cv2.cvtColor(src_color, cv2.COLOR_BGR2GRAY)\n",
    "    sbj = cv2.cvtColor(sbj_color, cv2.COLOR_BGR2GRAY)\n",
    "    \n",
    "    orb_detector = cv2.ORB_create(2000)\n",
    "    src_keypoints, src_descriptors = orb_detector.detectAndCompute(src, None)\n",
    "    sbj_keypoints, sbj_descriptors = orb_detector.detectAndCompute(sbj,None)\n",
    "\n",
    "    matcher = cv2.BFMatcher(cv2.NORM_HAMMING, crossCheck = True)\n",
    "    matches = list(matcher.match(sbj_descriptors, src_descriptors))\n",
    "    \n",
    "    matches.sort(key = lambda x: x.distance)\n",
    "    matches = matches[:int(len(matches)*0.9)]\n",
    "    # records matched keypoints' coordinates\n",
    "    no_of_matches = len(matches)\n",
    "    p1 = np.zeros((no_of_matches, 2))\n",
    "    p2 = np.zeros((no_of_matches, 2))\n",
    "\n",
    "    for i in range(no_of_matches):\n",
    "        p1[i, :] = sbj_keypoints[matches[i].queryIdx].pt\n",
    "        p2[i, :] = src_keypoints[matches[i].trainIdx].pt\n",
    "    \n",
    "    homography, mask = cv2.findHomography(p1, p2, cv2.RANSAC)\n",
    "    transformed_img = cv2.warpPerspective(sbj_color,\n",
    "                        homography, (src.shape[1], src.shape[0]))\n",
    "    return transformed_img\n",
    "\n",
    "def crop_rotate_dir(img, og_file_dir, output_dir, angle = -1.5, left = 135, upper =85, right = 600, lower = 390):\n",
    "    filename = og_file_dir.split('/')[-1]\n",
    "    im = Image.fromarray(img)\n",
    "    rotated = im.rotate(angle, expand = 1)\n",
    "    im_final = rotated.crop((left, upper, right, lower))            \n",
    "    im_final.save(output_dir+'/'+filename)"
   ]
  },
  {
   "cell_type": "code",
   "execution_count": 4,
   "metadata": {},
   "outputs": [],
   "source": [
    "\"\"\"\n",
    "input: filename of plate\n",
    "output: pd df of the ground truth for that plate\n",
    "\"\"\"\n",
    "from typing import Tuple\n",
    "\n",
    "all_labels = pd.read_csv('updated_ground_truth.csv')\n",
    "\n",
    "def get_ground_truth(filename: str):\n",
    "    id = filename.split('_')[-1].split('.')[0]\n",
    "    this_labels = all_labels.loc[all_labels[\"destination_plate_bcode\"]==int(id),['destination_well']].to_numpy()\n",
    "    return this_labels\n",
    "\n",
    "\"\"\"\n",
    "gaussian_kernel_size: greater = blurring in larger neighborhood\n",
    "gaussian_sigma: greater sigma = more blurring\n",
    "adp_th_block_size needs to be odd: greater = looking at local intensities in a larger neighborhood\n",
    "adp_th_const is a constant that is subtracted from the weighted mean; greater = effectively more noise reduction\n",
    "\"\"\"\n",
    "def load_and_preprocess_img(filename: str, gaussian_kernel_size: Tuple = (3,3), adapt=cv2.ADAPTIVE_THRESH_GAUSSIAN_C, thresh=cv2.THRESH_BINARY_INV, gaussian_sigma: float = 1.0, adp_th_block_size: int = 5, adp_th_const: int = 4):\n",
    "    img = cv2.imread(filename, cv2.IMREAD_GRAYSCALE)\n",
    "    img_blurred = cv2.GaussianBlur(img, gaussian_kernel_size, gaussian_sigma)\n",
    "    img_th = cv2.adaptiveThreshold(img_blurred, 255, adapt, thresh, adp_th_block_size, adp_th_const)\n",
    "    return img_th\n",
    "\n",
    "\"\"\"\n",
    "exclude wells with black background\n",
    "\"\"\"\n",
    "def exclude_wells(col_idx, row_idx):\n",
    "    # M3, M4, A12, A13, P12, P13, C21\n",
    "    if ((col_idx == 2 or col_idx == 3) and row_idx == 12) or ((row_idx ==0 or row_idx == 15) and (col_idx==11 or col_idx ==12)) or (row_idx == 2 and col_idx==20):\n",
    "        return True\n",
    "    return False\n",
    "\"\"\"\n",
    "input: img or preprocessed img\n",
    "output: conceptually a matrix of 16 x 24, each entry is the isolated well image\n",
    "\"\"\"\n",
    "def isolate_each_well(img_th):\n",
    "    to_return = []\n",
    "    y = img_th.shape[0] / 16\n",
    "    x = img_th.shape[1] / 24\n",
    "    for row in np.arange(0, img_th.shape[0], y):\n",
    "        col_out = []\n",
    "        for col in np.arange(0, img_th.shape[1], x):\n",
    "            col_out.append(img_th[round(row):round(row+y),round(col):round(col+x)])\n",
    "        to_return.append(col_out)\n",
    "    return np.array(to_return, dtype=object)\n",
    "\n",
    "\"\"\"\n",
    "If one and only one particle is detected, report 1\n",
    "If no particle detected, report 0\n",
    "else: report -1 to indicate ambiguity\n",
    "\"\"\"\n",
    "def particle_detection_prediction(well_img):\n",
    "    nb_components, arr = cv2.connectedComponents(well_img, connectivity=8)\n",
    "    if nb_components - 1 == 1:\n",
    "        pred = 1\n",
    "    elif nb_components - 1 == 0:\n",
    "        pred = 0\n",
    "    else:\n",
    "        pred = -1\n",
    "    return pred"
   ]
  },
  {
   "cell_type": "code",
   "execution_count": 5,
   "metadata": {},
   "outputs": [],
   "source": [
    "\"\"\"\n",
    "Uses particle detection to predict whether or not bead is present.\n",
    "Returns accuracy and a list of unsure well locations for each img (if particle_detection_prediction returns -1)\n",
    "    which means that more than one particle is detected in the well\n",
    "\"\"\"\n",
    "from numpy import isnan\n",
    "from collections import defaultdict\n",
    "\n",
    "def melodys_pipeline(thresh, adapt, block, c, k, registration, input_dir = 'all_images/', cropped_output_dir = 'cropped/'):\n",
    "    # save aligned and cropped imgs to disk to avoid taking up too much memory\n",
    "    if registration:\n",
    "        cropped_output_dir = 'cropped2/'\n",
    "    # for filename in glob.glob(input_dir+'/*.jpg'):\n",
    "    #     print(filename)\n",
    "    #     if registration:\n",
    "    #         img = align_to_standard(filename)\n",
    "    #     else:\n",
    "    #         img = cv2.imread(filename)\n",
    "    #     crop_rotate_dir(img, filename, output_dir=cropped_output_dir,left = 135, upper =85, right = 600, lower = 390)\n",
    "\n",
    "    accuracy_list = []\n",
    "    with_label = []\n",
    "    no_label = []\n",
    "    y_true, y_pred = [], []\n",
    "    wells = defaultdict(lambda:0)\n",
    "    totals = defaultdict(lambda:0)\n",
    "    specials = defaultdict(lambda:0)\n",
    "    # unsure_dict = {}\n",
    "    # read every image file from the input folder\n",
    "    for filename in glob.glob(cropped_output_dir +'/*.jpg'):\n",
    "        right = 0\n",
    "        wrong = 0\n",
    "        unsure = []\n",
    "        labels = get_ground_truth(filename)\n",
    "        if len(labels) == 0:\n",
    "            no_label.append(filename)\n",
    "            continue\n",
    "        with_label.append(filename)\n",
    "\n",
    "        img_th = load_and_preprocess_img(filename=filename, gaussian_kernel_size=(3,3), thresh=thresh, adapt=adapt, adp_th_block_size=block, adp_th_const=c, gaussian_sigma=1.0)\n",
    "        # print(type(img_th))\n",
    "        well_imgs = isolate_each_well(img_th)\n",
    "        for row in range(well_imgs.shape[0]):\n",
    "            for col in range(well_imgs.shape[1]):\n",
    "                if exclude_wells(col, row):\n",
    "                    continue\n",
    "                \n",
    "                # crop out a kxk square in the center of the well\n",
    "                well = np.array(well_imgs[row,col])\n",
    "                if well.shape[1] == 20:\n",
    "                    well = well[:, :-1]\n",
    "                row_diff = (well.shape[0] - k) // 2\n",
    "                well = well[row_diff:, :]\n",
    "                well = well[:k, :]\n",
    "                well = well[:, row_diff:]\n",
    "                well = well[:, :k]\n",
    "                \n",
    "                # pred = particle_detection_prediction(well) # comment this if using only num of val in thresholded img and uncomment the following line\n",
    "                pred = len(np.unique(well)) - 1 \n",
    "                if pred != -1:\n",
    "                    y_pred.append(pred)\n",
    "                    #get truth\n",
    "                    well_id = chr(ord('A') + row) + str(col + 1)\n",
    "                    totals[well_id] += 1\n",
    "                    if well_id in labels:\n",
    "                        truth = 1\n",
    "                    else:\n",
    "                        truth = 0\n",
    "                    if well_id in ['A11', 'A14'] and truth == 1:\n",
    "                        specials[well_id] += 1\n",
    "                    elif well_id in ['P11', 'P14'] and truth == 1:\n",
    "                        specials[well_id] += 1\n",
    "                    y_true.append(truth)   \n",
    "                    if pred == truth:\n",
    "                        wells[well_id] += 1\n",
    "                        right += 1\n",
    "                    else:\n",
    "                        wrong += 1\n",
    "                else:\n",
    "                    unsure.append([row, col])\n",
    "        accuracy_list.append(right / (right + wrong + len(unsure)))\n",
    "        # unsure_dict[filename] = len(unsure)\n",
    "    # print(\"unsure: \", unsure)\n",
    "    return accuracy_list, y_true, y_pred, wells, totals, specials, with_label, no_label #, unsure_dict\n",
    "    # return None"
   ]
  },
  {
   "cell_type": "code",
   "execution_count": 7,
   "metadata": {},
   "outputs": [
    {
     "name": "stdout",
     "output_type": "stream",
     "text": [
      "0.9704937279184838\n"
     ]
    },
    {
     "data": {
      "text/plain": [
       "(array([   2.,    0.,    2.,    0.,    8.,    4.,   16.,   21.,   52.,\n",
       "        1106.]),\n",
       " array([0.16710875, 0.25039788, 0.333687  , 0.41697613, 0.50026525,\n",
       "        0.58355438, 0.6668435 , 0.75013263, 0.83342175, 0.91671088,\n",
       "        1.        ]),\n",
       " <BarContainer object of 10 artists>)"
      ]
     },
     "execution_count": 7,
     "metadata": {},
     "output_type": "execute_result"
    },
    {
     "data": {
      "image/png": "[encoded data removed]",
      "text/plain": [
       "<Figure size 432x288 with 1 Axes>"
      ]
     },
     "metadata": {
      "needs_background": "light"
     },
     "output_type": "display_data"
    }
   ],
   "source": [
    "accs, y_true, y_pred, wells, totals, specials, _, _ = melodys_pipeline(cv2.THRESH_BINARY, cv2.ADAPTIVE_THRESH_GAUSSIAN_C, 5, 4, k=9, registration=False)\n",
    "print(np.mean(accs))\n",
    "plt.hist(accs)"
   ]
  },
  {
   "cell_type": "code",
   "execution_count": 8,
   "metadata": {},
   "outputs": [
    {
     "data": {
      "text/plain": [
       "<sklearn.metrics._plot.confusion_matrix.ConfusionMatrixDisplay at 0x7fc0f83b1cd0>"
      ]
     },
     "execution_count": 8,
     "metadata": {},
     "output_type": "execute_result"
    },
    {
     "data": {
      "image/png": "[encoded data removed]",
      "text/plain": [
       "<Figure size 432x288 with 2 Axes>"
      ]
     },
     "metadata": {
      "needs_background": "light"
     },
     "output_type": "display_data"
    }
   ],
   "source": [
    "from sklearn.metrics import confusion_matrix, ConfusionMatrixDisplay\n",
    "\n",
    "conf_mat = confusion_matrix(y_true=y_true, y_pred=y_pred)\n",
    "disp = ConfusionMatrixDisplay(conf_mat)\n",
    "disp.plot()"
   ]
  },
  {
   "cell_type": "code",
   "execution_count": 9,
   "metadata": {},
   "outputs": [
    {
     "name": "stdout",
     "output_type": "stream",
     "text": [
      "(array([0.90872943, 0.99678364]), array([0.99175327, 0.96248745]), array([0.94842788, 0.97933538]), array([124898, 331649]))\n"
     ]
    }
   ],
   "source": [
    "from sklearn.metrics import precision_recall_fscore_support\n",
    "\n",
    "results = precision_recall_fscore_support(y_true=y_true, y_pred=y_pred)\n",
    "print(results)"
   ]
  },
  {
   "cell_type": "code",
   "execution_count": null,
   "metadata": {},
   "outputs": [],
   "source": []
  }
 ],
 "metadata": {
  "kernelspec": {
   "display_name": "Python 3.9.1 64-bit",
   "language": "python",
   "name": "python3"
  },
  "language_info": {
   "codemirror_mode": {
    "name": "ipython",
    "version": 3
   },
   "file_extension": ".py",
   "mimetype": "text/x-python",
   "name": "python",
   "nbconvert_exporter": "python",
   "pygments_lexer": "ipython3",
   "version": "3.9.1"
  },
  "orig_nbformat": 4,
  "vscode": {
   "interpreter": {
    "hash": "aee8b7b246df8f9039afb4144a1f6fd8d2ca17a180786b69acc140d282b71a49"
   }
  }
 },
 "nbformat": 4,
 "nbformat_minor": 2
}
