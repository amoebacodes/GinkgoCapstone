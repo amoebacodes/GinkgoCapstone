{
 "cells": [
  {
   "cell_type": "markdown",
   "metadata": {},
   "source": [
    "Make sure you have your directory set with the images of interest."
   ]
  },
  {
   "cell_type": "code",
   "execution_count": 12,
   "metadata": {},
   "outputs": [
    {
     "name": "stdout",
     "output_type": "stream",
     "text": [
      "Initialised with 2 image(s) found.\n",
      "Output directory set to ./wells/output.Initialised with 2 image(s) found.\n",
      "Output directory set to ./wells/output.Initialised with 2 image(s) found.\n",
      "Output directory set to ./wells/output.Initialised with 2 image(s) found.\n",
      "Output directory set to ./wells/output."
     ]
    },
    {
     "name": "stderr",
     "output_type": "stream",
     "text": [
      "Processing <PIL.Image.Image image mode=RGBA size=178x160 at 0x7F829E30A1D0>: 100%|██████████| 2/2 [00:00<00:00, 97.30 Samples/s]\n",
      "Processing <PIL.Image.Image image mode=RGBA size=178x160 at 0x7F829E30A7B8>: 100%|██████████| 2/2 [00:00<00:00, 204.84 Samples/s]\n",
      "Processing <PIL.Image.Image image mode=RGBA size=178x160 at 0x7F829E30A0F0>: 100%|██████████| 2/2 [00:00<00:00, 205.15 Samples/s]\n",
      "Processing <PIL.Image.Image image mode=RGBA size=178x160 at 0x7F829E30A898>: 100%|██████████| 2/2 [00:00<00:00, 96.80 Samples/s]\n"
     ]
    }
   ],
   "source": [
    "# https://augmentor.readthedocs.io/en/stable/code.html\n",
    "\n",
    "import Augmentor\n",
    "directory = \"./wells\"\n",
    "# custom output directories\n",
    "# pipeline1 = Augmentor.Pipeline(directory, output_directory=u'../distrotion')\n",
    "# pipeline2 = Augmentor.Pipeline(directory,output_directory=u'../horziontal_flip')\n",
    "# pipeline3 = Augmentor.Pipeline(directory, output_directory=u'../vertical_flip')\n",
    "# pipeline4 = Augmentor.Pipeline(directory, output_directory=u'../skew')\n",
    "\n",
    "pipeline1 = Augmentor.Pipeline(directory)\n",
    "pipeline2 = Augmentor.Pipeline(directory)\n",
    "pipeline3 = Augmentor.Pipeline(directory)\n",
    "pipeline4 = Augmentor.Pipeline(directory)\n",
    "\n",
    "pipeline1.random_distortion(probability=1, grid_width=4, grid_height=4, magnitude=8)\n",
    "pipeline1.process()\n",
    "\n",
    "pipeline2.flip_left_right(probability=1)\n",
    "pipeline2.process()\n",
    "\n",
    "pipeline3.flip_top_bottom(probability=1)\n",
    "pipeline3.process()\n",
    "\n",
    "pipeline4.skew(probability=1, magnitude=0.5)\n",
    "pipeline4.process()"
   ]
  },
  {
   "cell_type": "code",
   "execution_count": 6,
   "metadata": {},
   "outputs": [
    {
     "name": "stderr",
     "output_type": "stream",
     "text": [
      "Processing <PIL.Image.Image image mode=RGB size=256x208 at 0x7F829D640EF0>: 100%|██████████| 1/1 [00:00<00:00, 58.31 Samples/s]\n",
      "Processing <PIL.Image.Image image mode=RGB size=256x208 at 0x7F829D640D30>: 100%|██████████| 1/1 [00:00<00:00, 173.67 Samples/s]\n"
     ]
    }
   ],
   "source": []
  }
 ],
 "metadata": {
  "kernelspec": {
   "display_name": "Python 3.6.13 ('official')",
   "language": "python",
   "name": "python3"
  },
  "language_info": {
   "codemirror_mode": {
    "name": "ipython",
    "version": 3
   },
   "file_extension": ".py",
   "mimetype": "text/x-python",
   "name": "python",
   "nbconvert_exporter": "python",
   "pygments_lexer": "ipython3",
   "version": "3.6.13"
  },
  "orig_nbformat": 4,
  "vscode": {
   "interpreter": {
    "hash": "5e43d9c31685e7e8f9a62e9b89267a6a1f8cf4795ff4fc2ecbeaf18b3eb1d92e"
   }
  }
 },
 "nbformat": 4,
 "nbformat_minor": 2
}
